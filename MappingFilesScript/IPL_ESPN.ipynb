{
 "cells": [
  {
   "cell_type": "code",
   "execution_count": 1,
   "metadata": {},
   "outputs": [],
   "source": [
    "import pandas as pd\n",
    "import requests\n",
    "from bs4 import BeautifulSoup\n",
    "import os"
   ]
  },
  {
   "cell_type": "code",
   "execution_count": 2,
   "metadata": {},
   "outputs": [],
   "source": [
    "IPL_ESPN_Mapping = './../MappingFiles/IPL_ESPN_Mapping.csv'"
   ]
  },
  {
   "cell_type": "code",
   "execution_count": 3,
   "metadata": {},
   "outputs": [],
   "source": [
    "df = pd.read_csv('./../Inputs/IPL/ipl-complete-dataset-20082020/IPL Ball-by-Ball 2008-2020.csv')"
   ]
  },
  {
   "cell_type": "code",
   "execution_count": 4,
   "metadata": {},
   "outputs": [
    {
     "data": {
      "text/html": [
       "<div>\n",
       "<style scoped>\n",
       "    .dataframe tbody tr th:only-of-type {\n",
       "        vertical-align: middle;\n",
       "    }\n",
       "\n",
       "    .dataframe tbody tr th {\n",
       "        vertical-align: top;\n",
       "    }\n",
       "\n",
       "    .dataframe thead th {\n",
       "        text-align: right;\n",
       "    }\n",
       "</style>\n",
       "<table border=\"1\" class=\"dataframe\">\n",
       "  <thead>\n",
       "    <tr style=\"text-align: right;\">\n",
       "      <th></th>\n",
       "      <th>Players</th>\n",
       "    </tr>\n",
       "  </thead>\n",
       "  <tbody>\n",
       "    <tr>\n",
       "      <th>0</th>\n",
       "      <td>RT Ponting</td>\n",
       "    </tr>\n",
       "    <tr>\n",
       "      <th>1</th>\n",
       "      <td>BB McCullum</td>\n",
       "    </tr>\n",
       "    <tr>\n",
       "      <th>2</th>\n",
       "      <td>DJ Hussey</td>\n",
       "    </tr>\n",
       "    <tr>\n",
       "      <th>3</th>\n",
       "      <td>Mohammad Hafeez</td>\n",
       "    </tr>\n",
       "    <tr>\n",
       "      <th>4</th>\n",
       "      <td>SC Ganguly</td>\n",
       "    </tr>\n",
       "    <tr>\n",
       "      <th>...</th>\n",
       "      <td>...</td>\n",
       "    </tr>\n",
       "    <tr>\n",
       "      <th>990</th>\n",
       "      <td>PK Garg (sub)</td>\n",
       "    </tr>\n",
       "    <tr>\n",
       "      <th>991</th>\n",
       "      <td>SP Goswami (sub)</td>\n",
       "    </tr>\n",
       "    <tr>\n",
       "      <th>992</th>\n",
       "      <td>Lalit Yadav (sub)</td>\n",
       "    </tr>\n",
       "    <tr>\n",
       "      <th>993</th>\n",
       "      <td>P Negi (sub)</td>\n",
       "    </tr>\n",
       "    <tr>\n",
       "      <th>994</th>\n",
       "      <td>KMA Paul (sub)</td>\n",
       "    </tr>\n",
       "  </tbody>\n",
       "</table>\n",
       "<p>995 rows × 1 columns</p>\n",
       "</div>"
      ],
      "text/plain": [
       "               Players\n",
       "0           RT Ponting\n",
       "1          BB McCullum\n",
       "2            DJ Hussey\n",
       "3      Mohammad Hafeez\n",
       "4           SC Ganguly\n",
       "..                 ...\n",
       "990      PK Garg (sub)\n",
       "991   SP Goswami (sub)\n",
       "992  Lalit Yadav (sub)\n",
       "993       P Negi (sub)\n",
       "994     KMA Paul (sub)\n",
       "\n",
       "[995 rows x 1 columns]"
      ]
     },
     "execution_count": 4,
     "metadata": {},
     "output_type": "execute_result"
    }
   ],
   "source": [
    "df_unique_batsman = pd.DataFrame(df['batsman'].unique(), columns=['Players'])\n",
    "df_unique_non_striker = pd.DataFrame(df['non_striker'].unique(), columns=['Players'])\n",
    "df_unique_bowler = pd.DataFrame(df['bowler'].unique(), columns=['Players'])\n",
    "df_unique_fielder = pd.DataFrame(df['fielder'].unique(), columns=['Players'])\n",
    "df_unique_player_dismissed = pd.DataFrame(df['player_dismissed'].unique(), columns=['Players'])\n",
    "df_unique_players = pd.concat([df_unique_batsman, df_unique_non_striker, df_unique_bowler, df_unique_fielder, df_unique_player_dismissed])\n",
    "df_unique_players = pd.DataFrame(df_unique_players['Players'].unique(), columns=['Players'])\n",
    "df_unique_players"
   ]
  },
  {
   "cell_type": "code",
   "execution_count": 5,
   "metadata": {},
   "outputs": [],
   "source": [
    "# method to get the full name of player from the espn crickinfo website\n",
    "\n",
    "def getFullName(name):\n",
    "    temp = name + \" cricket player\"\n",
    "    googleLink = 'https://www.google.com/search'\n",
    "    response = requests.get(googleLink, params={'q': temp}).text\n",
    "    # print(response)\n",
    "    soup = BeautifulSoup(response, features='html.parser').find_all('a')\n",
    "    # print(soup)\n",
    "    # name = soup.find_all(\"h3\", class_ = \"name link-cta\")\n",
    "    try:\n",
    "        # print(soup)\n",
    "        # allLinks = [link.get('href') for link in soup]\n",
    "        # all_links = []\n",
    "        # print(soup)\n",
    "        for url_link in soup:\n",
    "            temp_url = url_link.get(\"href\")\n",
    "            # print(temp_url)\n",
    "            if \"espncricinfo\" in temp_url and \"img\" not in temp_url and \"image\" not in temp_url:\n",
    "                temp_url = temp_url.replace(\"/url?q=\",\"\").split('&')[0]\n",
    "                # print(temp_url)\n",
    "                break\n",
    "        responsePlayer = requests.get(temp_url).text\n",
    "        soup = BeautifulSoup(responsePlayer, features='html.parser')\n",
    "        # print(soup)\n",
    "        fullName = soup.find_all(\"span\", class_ = \"ds-text-title-s ds-font-bold ds-text-typo\")[0].find(\"p\").text\n",
    "        return fullName\n",
    "    except:\n",
    "        return \"NA\""
   ]
  },
  {
   "cell_type": "code",
   "execution_count": 6,
   "metadata": {},
   "outputs": [
    {
     "name": "stdout",
     "output_type": "stream",
     "text": [
      "{'RT Ponting': 'Ricky Thomas Ponting', 'BB McCullum': 'Brendon Barrie McCullum', 'DJ Hussey': 'David John Hussey', 'Mohammad Hafeez': 'Mohammad Hafeez', 'SC Ganguly': 'Sourav Chandidas Ganguly', 'CL White': 'Cameron Leon White', 'MV Boucher': 'Mark Verdon Boucher', 'B Akhil': 'Balachandra Akhil', 'AA Noffke': 'Ashley Allan Noffke', 'P Kumar': 'Praveenkumar Sakat Singh', 'Z Khan': 'Zaheer Khan', 'SB Joshi': 'Sunil Bandacharya Joshi', 'W Jaffer': 'Wasim Jaffer', 'JH Kallis': 'Jacques Henry Kallis', 'R Dravid': 'Rahul Sharad Dravid', 'V Kohli': 'Virat Kohli', 'K Goel': 'Karan Goel', 'MEK Hussey': 'Michael Edward Killeen Hussey', 'JR Hopes': 'James Redfern Hopes', 'SK Raina': 'Suresh Kumar Raina', 'JDP Oram': 'Jacob David Philip Oram', 'S Badrinath': 'Subramaniam Badrinath', 'PA Patel': 'Parthiv Ajay Patel', 'ML Hayden': 'Matthew Lawrence Hayden', 'MS Dhoni': 'Mahendra Singh Dhoni', 'KC Sangakkara': 'Kumar Chokshanada Sangakkara', 'Yuvraj Singh': 'Yuvraj Singh', 'SM Katich': 'Simon Mathew Katich', 'IK Pathan': 'Irfan Khan Pathan', 'T Kohli': 'Taruwar Sushil Kohli', 'YK Pathan': 'Yusuf Khan Pathan', 'S Dhawan': 'Shikhar Dhawan', 'G Gambhir': 'Gautam Gambhir', 'SK Warne': 'Shane Keith Warne', 'D Salunkhe': 'Dinesh Salunkhe', 'SK Trivedi': 'Siddharth Kishorkumar Trivedi', 'V Sehwag': 'Virender Sehwag', 'SR Watson': 'Shane Robert Watson', 'M Kaif': 'Mohammad Kaif', 'DS Lehmann': 'Darren Scott Lehmann', 'RA Jadeja': 'Ravindrasinh Anirudhsinh Jadeja', 'M Rawat': 'Mahesh Rawat', 'L Ronchi': 'Luke Ronchi', 'ST Jayasuriya': 'Sanath Teran Jayasuriya', 'DJ Thornely': 'Dominic John Thornely', 'RV Uthappa': 'Robin Venu Uthappa', 'PR Shah': 'Pinal Rohitbhai Shah', 'AM Nayar': 'Abhishek Mohan Nayar', 'SM Pollock': 'Shaun Maclean Pollock', 'Harbhajan Singh': 'Harbhajan Singh', 'S Chanderpaul': 'Shivnarine Chanderpaul', 'LRPL Taylor': 'Luteru Ross Poutoa Lote Taylor', 'WP Saha': 'Wriddhiman Prasanta Saha', 'AS Yadav': 'Ashish Yadav', 'A Symonds': 'Andrew Symonds', 'SB Bangar': 'Sanjay Bapusaheb Bangar', 'WPUJC Vaas': 'Warnakulasuriya Patabendige Ushantha Joseph Chaminda Vaas', 'RP Singh': 'Rudra Pratap Singh', 'AC Gilchrist': 'Adam Craig Gilchrist', 'Y Venugopal Rao': 'Yalaka Venugopal Rao', 'VVS Laxman': 'Vangipurappu Venkata Sai Laxman', 'RG Sharma': 'Rohit Gurunath Sharma', 'SB Styris': 'Scott Bernard Styris', 'LR Shukla': 'Laxmi Ratan Shukla', 'PP Chawla': 'Piyush Pramod Chawla', 'Kamran Akmal': 'Kamran Akmal', 'DPMD Jayawardene': 'Denagamage Proboth Mahela de Silva Jayawardene', 'S Sohal': 'Sunny Sohal', 'B Lee': 'Brett Lee', 'WA Mota': 'Wilkin Arvind Mota', 'Shahid Afridi': 'Sahibzada Mohammad Shahid Khan Afridi', 'DJ Bravo': 'Dwayne John Bravo', 'A Nehra': 'Ashish Nehra', 'MA Khote': 'Musavir Asmat Khote', 'GC Smith': 'Graeme Craig Smith', 'Pankaj Singh': 'Pankaj Singh', 'S Sreesanth': 'Shanthakumaran Sreesanth', 'VRV Singh': 'Vikram Raj Vir Singh', 'SS Tiwary': 'Saurabh Sunil Tiwary', 'RR Sarwan': 'Ramnaresh Ronnie Sarwan', 'DS Kulkarni': 'Dhawal Sunil Kulkarni', 'R Vinay Kumar': 'Ranganath Vinay Kumar', 'M Kartik': 'Murali Kartik', 'I Sharma': 'Ishant Sharma', 'AB Agarkar': 'Ajit Bhalchandra Agarkar', 'AM Rahane': 'Ajinkya Madhukar Rahane', 'TM Srivastava': 'Tanmay Manoj Srivastava', 'Shoaib Malik': 'Shoaib Malik', 'MK Tiwary': 'Manoj Kumar Tiwary', 'KD Karthik': 'Krishnakumar Dinesh Karthik', 'R Bhatia': 'Rajat Bhatia', 'MF Maharoof': 'Mohamed Farveez Maharoof', 'VY Mahesh': 'Vijaykumar Yo Mahesh', 'B Chipli': 'Bharat Chipli', 'DW Steyn': 'Dale Willem Steyn', 'DB Das': 'Debabrata Baidya Das', 'MK Pandey': 'Manish Krishnanand Pandey', 'HH Gibbs': 'Herschelle Herman Gibbs', 'DNT Zoysa': 'Demuni Nuwan Tharanga Zoysa', 'D Kalyankrishna': 'Doddapaneni Kalyankrishna', 'SE Marsh': 'Shaun Edward Marsh', 'SA Asnodkar': 'Swapnil Ashok Asnodkar', 'BJ Hodge': 'Bradley John Hodge', 'Sohail Tanvir': 'Sohail Tanvir', 'Salman Butt': 'Salman Butt', 'Umar Gul': 'Umar Gul', 'AB Dinda': 'Ashok Bhimchandra Dinda', 'AB de Villiers': 'Abraham Benjamin de Villiers', 'SP Fleming': 'Stephen Paul Fleming', 'S Vidyut': 'Vidyut Sivaramakrishnan', 'JA Morkel': 'Johannes Albertus Morkel', 'LPC Silva': 'Lindamlilage Prageeth Chamara Silva', 'DB Ravi Teja': 'Dwaraka Bhamidipati Ravi Teja', 'Misbah-ul-Haq': 'Misbah-ul-Haq Khan Niazi', 'PJ Sangwan': 'Pradeep Jaibeer Sangwan', 'YV Takawale': 'Yogesh Vijay Takawale', 'RR Raje': 'Rohan Ravindra Raje', 'Mohammad Asif': 'Mohammad Asif', 'GD McGrath': 'Glenn Donald McGrath', 'Joginder Sharma': 'Joginder Sharma', 'MS Gony': 'Manpreet Singh Gony', 'M Muralitharan': 'Muthiah Muralidaran', 'M Ntini': 'Makhaya Ntini', 'DT Patil': 'Devraj Thyagaraj Patil', 'A Kumble': 'Anil Kumble', 'S Anirudha': 'Srikkanth Anirudha', 'MM Patel': 'Munaf Musa Patel', 'CK Kapugedera': 'Chamara Kantha Kapugedera', 'A Chopra': 'Aakash Chopra', 'T Taibu': 'Tatenda Taibu', 'J Arunkumar': 'Jagadeesh Arunkumar', 'PP Ojha': 'Pragyan Prayash Ojha', 'SP Goswami': 'Shreevats Pratyush Goswami', 'SR Tendulkar': 'Sachin Ramesh Tendulkar', 'U Kaul': 'Uday Kaul', 'Niraj Patel': 'Niraj Kanubhai Patel', 'AD Mascarenhas': 'Adrian Dimitri Mascarenhas', 'TM Dilshan': 'Tillakaratne Mudiyanselage Dilshan', 'A Mishra': 'Amit Mishra', 'LA Pomersbach': 'Luke Anthony Pomersbach', 'Iqbal Abdulla': 'Sayed Iqbal Abdulla', 'Younis Khan': 'Mohammad Younis Khan', 'PM Sarvesh Kumar': 'PM Sarvesh Kumar', 'DP Vijaykumar': 'David Paidikalva Vijaykumar', 'Shoaib Akhtar': 'Shoaib Akhtar', 'Abdur Razzak': 'Abdur Razzak', 'H Das': 'Halhadar Das', 'DR Smith': 'Dwayne Romel Smith', 'SD Chitnis': 'Siddharth Dilip Chitnis', 'CRD Fernando': 'Congenige Randhi Dilhara Fernando', 'VS Yeligati': 'Vikrant Shyam Yeligati', 'L Balaji': 'Lakshmipathy Balaji', 'A Mukund': 'Abhinav Mukund', 'RR Powar': 'Ramesh Rajaram Powar', 'JP Duminy': 'Jean-Paul Duminy', 'A Flintoff': 'Andrew Flintoff', 'T Thushara': 'Magina Thilan Thushara Mirando', 'KP Pietersen': 'Kevin Peter Pietersen', 'JD Ryder': 'Jesse Daniel Ryder', 'T Henderson': 'Tyron Henderson', 'Kamran Khan': 'Kamran Khan', 'RS Bopara': 'Ravinder Singh Bopara', 'MC Henriques': 'Moises Constantino Henriques', 'CH Gayle': 'Christopher Henry Gayle', 'R Bishnoi': 'Ravi Bishnoi', 'KV Sharma': 'Karn Vinod Sharma', 'FH Edwards': 'Fidel Henderson Edwards', 'AS Raut': 'Punam Ganesh Raut', 'PC Valthaty': 'Paul Chandrashekar Valthaty', 'RJ Quiney': 'Robert John Quiney', 'Yashpal Singh': 'Yashpal Singh', 'M Manhas': 'Mithun Manhas', 'AA Bilakhia': 'Azharuddin Anjum Bilakhia', 'AN Ghosh': 'Arindam Nanigopal Ghosh', 'BAW Mendis': 'Balapuwaduge Ajantha Winslow Mendis', 'DL Vettori': 'Daniel Luca Vettori', 'MN van Wyk': 'Morne Nico van Wyk', 'RE van der Merwe': 'Roelof Erasmus van der Merwe', 'TL Suman': 'Tirumalasetti Laxminarayana Suman', 'Shoaib Ahmed': 'Shoaib Ahmed Minhas', 'GR Napier': 'Graham Richard Napier', 'KP Appanna': 'Kotarangada Prabhu Appanna', 'LA Carseldine': 'Lee Andrew Carseldine', 'NV Ojha': 'Naman Vinaykumar Ojha', 'SM Harwood': 'Shane Michael Harwood', 'M Vijay': 'Murali Vijay', 'DA Warner': 'David Andrew Warner', 'SB Jakati': 'Shadab Bashir Jakati', 'RJ Harris': 'Ryan James Harris', 'D du Preez': 'Dillon du Preez', 'M Morkel': 'Morne Morkel', 'AD Mathews': 'Angelo Davis Mathews', 'SL Malinga': 'Separamadu Lasith Malinga', 'C Nanda': 'Chetanya Nanda', 'J Botha': 'Johan Botha', 'Mashrafe Mortaza': 'Mashrafe Bin Mortaza', 'A Singh': 'Arshdeep Singh', 'GJ Bailey': 'George John Bailey', 'AB McDonald': 'Andrew Barry McDonald', 'Y Nagar': 'Yogesh Nagar', 'SS Shaikh': 'Shoaib Shabbir Shaikh', 'R Ashwin': 'Ravichandran Ashwin', 'Mohammad Ashraful': 'Mohammad Ashraful', 'Jaskaran Singh': 'Jaskaran Singh Buttar', 'Anirudh Singh': 'Anirudh Singh', 'CA Pujara': 'Cheteshwar Arvind Pujara', 'OA Shah': 'Owais Alam Shah', 'AP Tare': 'Aditya Prakash Tare', 'AT Rayudu': 'Ambati Thirupathi Rayudu', 'R Sathish': 'Rajagopal Sathish', 'R McLaren': 'Ryan McLaren', 'AA Jhunjhunwala': 'Abhishek Arunkumar Jhunjhunwala', 'P Dogra': 'Paras Dogra', 'A Uniyal': 'Amit Uniyal', 'MS Bisla': 'Manvinder Sultansingh Bisla', 'YA Abdulla': 'Yusuf Adam Abdulla', 'EJG Morgan': 'Eoin Joseph Gerard Morgan', 'JM Kemp': 'Justin Miles Kemp', 'S Tyagi': 'Sudeep Tyagi', 'RS Gavaskar': 'Rohan Sunil Gavaskar', 'SE Bond': 'Shane Edward Bond', 'S Ladda': 'Sarabjit Ladda', 'DP Nannes': 'Dirk Peter Nannes', 'KA Pollard': 'Kieron Adrian Pollard', 'DR Martyn': 'Damien Richard Martyn', 'S Narwal': 'Sumit Narwal', 'MJ Lumb': 'Michael John Lumb', 'Bipul Sharma': 'Bipul Sharma', 'AB Barath': 'Adrian Boris Barath', 'FY Fazal': 'Faiz Yakub Fazal', 'AC Voges': 'Adam Charles Voges', 'MD Mishra': 'Dharmendra Shardaprasad Mishra', 'UT Yadav': 'Umeshkumar Tilak Yadav', 'J Theron': 'Juan Theron', 'SJ Srivastava': 'Shalabh Jagdishprasad Srivastava', 'R Sharma': 'Rohit Gurunath Sharma', 'Mandeep Singh': 'Mandeep Singh', 'KM Jadhav': 'Kedar Mahadav Jadhav', 'SW Tait': 'Shaun William Tait', 'KB Arun Karthik': 'Konda Bhaskir Arun Karthik', 'KAJ Roach': 'Kemar Andre Jamal Roach', 'PD Collingwood': 'Paul David Collingwood', 'CK Langeveldt': 'Charl Kenneth Langeveldt', 'VS Malik': 'Vikramjeet Singh Malik', 'A Mithun': 'Abhimanyu Mithun', 'AP Dole': 'Aditya Pradip Dole', 'AN Ahmed': 'A Ahmed', 'RS Sodhi': 'Reetinder Singh Sodhi', 'DE Bollinger': 'Douglas Erwin Bollinger', 'S Sriram': 'Sridharan Sriram', 'B Sumanth': 'Bodapati Apparao Sumanth', 'C Madan': 'Chandan Madan', 'AG Paunikar': 'Amit Gajanan Paunikar', 'MR Marsh': 'Mitchell Ross Marsh', 'AJ Finch': 'Aaron James Finch', 'STR Binny': 'Stuart Terence Roger Binny', 'Harmeet Singh': 'Harmeet Singh', 'IR Jaggi': 'Ishank Rajiv Jaggi', 'DT Christian': 'Daniel Trevor Christian', 'MA Agarwal': 'Mayank Anurag Agarwal', 'RV Gomez': 'Raiphi Vincent Gomez', 'AUK Pathan': 'Asad Ullah Khan Pathan', 'UBT Chand': 'Unmukt Bharat Thakur Chand', 'DJ Jacobs': 'David Johan Jacobs', 'NJ Rimmington': 'Nathan John Rimmington', 'Sunny Singh': 'Sunny Singh', 'AL Menaria': 'Ashok Lakshminarayan Menaria', 'WD Parnell': 'Wayne Dillon Parnell', 'JJ van der Wath': 'Johannes Jacobus van der Wath', 'R Ninan': 'Ryan Ninan', 'S Aravind': 'Sreenath Aravind', 'MS Wade': 'Matthew Scott Wade', 'TD Paine': 'Timothy David Paine', 'JEC Franklin': 'James Edward Charles Franklin', 'SB Wagh': 'Shrikant Bhaskar Wagh', 'AC Thomas': 'NA', 'Shakib Al Hasan': 'Shakib Al Hasan', 'DH Yagnik': 'Dishant Harendra Yagnik', 'S Randiv': 'Hewa Kaluhalamullage Suraj Randiv Kaluhalamulla', 'BJ Haddin': 'Bradley James Haddin', 'NLTC Perera': 'Narangoda Liyanaarachchilage Thisara Chirantha Perera', 'NL McCullum': 'Nathan Leslie McCullum', 'JE Taylor': 'Jerome Everton Taylor', 'J Syed Mohammad': 'Jamaluddin Syed Mohammad', 'RN ten Doeschate': 'Ryan Neil ten Doeschate', 'TR Birt': 'Travis Rodney Birt', 'AG Murtaza': 'Ali Ghulam Murtaza', 'Harpreet Singh': 'Harpreet Singh Bhatia', 'M Klinger': 'Michael Klinger', 'AC Blizzard': 'Aiden Craig Blizzard', 'I Malhotra': 'Jaskaran Singh Malhotra', 'L Ablish': 'Love Ablish', 'CA Ingram': 'Colin Alexander Ingram', 'S Nadeem': 'Shahbaz Nadeem', 'P Parameswaran': 'Prasanth Parameswaran', 'CJ Ferguson': 'Callum James Ferguson', 'VR Aaron': 'Varun Raymond Aaron', 'AA Chavan': 'Ankeet Anil Chavan', 'ND Doshi': 'Nayan Dilip Doshi', 'B Kumar': 'Bhuvneshwar Kumar Singh', 'Y Gnaneswara Rao': 'Yalaka Gnaneswara Rao', 'S Rana': 'Sneh Rana', 'BA Bhatt': 'Bhargav Ashok Bhatt', 'F du Plessis': 'Francois du Plessis', 'RE Levi': 'Richard Ernst Levi', 'GJ Maxwell': 'Glenn James Maxwell', 'SPD Smith': 'Steven Peter Devereux Smith', 'SA Yadav': 'Suryakumar Ashok Yadav', 'MN Samuels': 'Marlon Nathaniel Samuels', 'KK Cooper': 'Kevon Keston Cooper', 'JP Faulkner': 'James Peter Faulkner', 'HV Patel': 'Harshal Vikram Patel', 'DAJ Bracewell': 'Douglas Andrew John Bracewell', 'DJ Harris': 'Daniel Joseph Harris', 'Ankit Sharma': 'Ankit Nagendra Sharma', 'SP Narine': 'Sunil Philip Narine', 'GB Hogg': 'George Bradley Hogg', 'RR Bhatkal': 'Raju Ravi Bhatkal', 'CJ McKay': 'Clinton James McKay', 'N Saini': 'Navdeep Amarjeet Saini', 'DA Miller': 'David Andrew Miller', 'Azhar Mahmood': 'Azhar Mahmood Sagar', 'P Negi': 'Pawan Negi', 'RJ Peterson': 'Robin John Peterson', 'KMDN Kulasekara': 'Kulasekara Mudiyanselage Dinesh Nuwan Kulasekara', 'A Ashish Reddy': 'Ammana Ashish Reddy', 'V Pratap Singh': 'Veer Pratap Singh', 'BB Samantray': 'Biplab Bipin Samantray', 'MJ Clarke': 'Michael John Clarke', 'Gurkeerat Singh': 'Gurkeerat Rupinder Singh', 'AP Majumdar': 'Anustup Prabir Majumdar', 'PA Reddy': 'Pareddy Girinath Reddy', 'K Upadhyay': 'Krishnakant Upadhyay', 'P Awana': 'Parvinder Awana', 'AD Russell': 'Andre Dwayne Russell', 'A Chandila': 'Ajit  Chandila', 'CA Lynn': 'Christopher Austin Lynn', 'Sunny Gupta': 'Sunny Gupta', 'MC Juneja': 'Manprit Charanjit Juneja', 'KK Nair': 'Karun Nair', 'GH Vihari': 'Gade Hanuma Vihari', 'R Shukla': 'Rahul Shukla', 'MDKJ Perera': 'Mathurage Don Kusal Janith Perera', 'AS Rajpoot': 'Ankit Singh Rajpoot', 'B Laughlin': 'Ben Laughlin', 'M Vohra': 'Manan Vohra', 'JD Unadkat': 'Jaydev Dipakbhai Unadkat', 'Mohammed Shami': 'Mohammed Shami Ahmed', 'BMAJ Mendis': 'Balapuwaduge Manukulasuriya Amith Jeevan Mendis', 'R Rampaul': 'Ravindranath Rampaul', 'CH Morris': 'Christopher Henry Morris', 'SV Samson': 'Sanju Viswanath Samson', 'SMSM Senanayake': 'Senanayake Mudiyanselage Sachithra Madhushanka Senanayake', 'BJ Rohrer': 'Ben James Rohrer', 'KL Rahul': 'Kannaur Lokesh Rahul', 'Q de Kock': 'Quinton de Kock', 'R Dhawan': 'Rishi Dhawan', 'MG Johnson': 'Mitchell Guy Johnson', 'LJ Wright': 'Luke James Wright', 'IC Pandey': 'Ishwar Chand Pandey', 'CM Gautam': 'Chidhambaram Muralidharen Gautam', 'X Thalaivan Sargunam': 'Xavier Thalaivan Sargunam', 'DJG Sammy': 'Daren Julius Garvey Sammy', 'KW Richardson': 'Kane William Richardson', 'MM Sharma': 'Mohit Mahipal Sharma', 'UA Birla': 'Udit Alok Birla', 'Parvez Rasool': 'Parvez Ghulam Rasool Zargar', 'Sandeep Sharma': 'Sandeep Sharma', 'S Kaul': 'Siddarth Kaul', 'Sachin Baby': 'Sachin Baby', 'PV Tambe': 'Pravin Vijay Tambe', 'NM Coulter-Nile': 'Nathan Mitchell Coulter-Nile', 'CJ Anderson': 'Corey James Anderson', 'NJ Maddinson': 'Nicolas James Maddinson', 'AR Patel': 'Axar Rajeshbhai Patel', 'JJ Bumrah': 'Jasprit Jasbirsingh Bumrah', 'JDS Neesham': 'James Douglas Sheahan Neesham', 'TG Southee': 'Timothy Grant Southee', 'MA Starc': 'Mitchell Aaron Starc', 'BR Dunk': 'Ben Robert Dunk', 'RR Rossouw': 'Rilee Roscoe Rossouw', 'Shivam Sharma': 'Shivam Sharma', 'YS Chahal': 'Yuzvendra Singh Chahal', 'LMP Simmons': 'Lendl Mark Platter Simmons', 'VH Zol': 'Vijay Hari Zol', 'Imran Tahir': 'Mohammad Imran Tahir', 'BCJ Cutting': 'Benjamin Colin James Cutting', 'BE Hendricks': 'Beuran Eric Hendricks', 'S Gopal': 'Shreyas Gopal', 'M de Lange': 'Marchant de Lange', 'R Tewatia': 'Rahul Tewatia', 'JO Holder': 'Jason Omar Holder', 'Karanveer Singh': 'Karanveer Singh', 'SS Iyer': 'Shreyas Santosh Iyer', 'DJ Hooda': 'Deepak Jagbir Hooda', 'Anureet Singh': 'Kathuria Anureet Singh', 'KS Williamson': 'Kane Stuart Williamson', 'SA Abbott': 'Sean Anthony Abbott', 'J Suchith': 'Jagadeesha Suchith', 'RG More': 'Ronit Gajanan More', 'D Wiese': 'David Wiese', 'HH Pandya': 'Hardik Himanshu Pandya', 'SN Khan': 'Sarfaraz Naushad Khan', 'MJ McClenaghan': 'Mitchell John McClenaghan', 'DJ Muthuswami': 'Domnic Joseph Muthuswami', 'PJ Cummins': 'Patrick James Cummins', 'SN Thakur': 'Shardul Narendra Thakur', 'JC Buttler': 'Joseph Charles Buttler', 'CR Brathwaite': 'Carlos Ricardo Brathwaite', 'MP Stoinis': 'Marcus Peter Stoinis', 'Ishan Kishan': 'Ishan Pranav Kumar Pandey Kishan', 'C Munro': 'Colin Munro', 'P Sahu': 'Pardeep Sahu', 'KH Pandya': 'Krunal Himanshu Pandya', 'AD Nath': 'Akshdeep Deependra Nath', 'MJ Guptill': 'Martin James Guptill', 'KJ Abbott': 'Kyle John Abbott', 'TM Head': 'Travis Michael Head', 'M Ashwin': 'Murugan Ashwin', 'NS Naik': 'Nikhil Shankar Naik', 'RR Pant': 'Rishabh Rajendra Pant', 'SW Billings': 'Samuel William Billings', 'KC Cariappa': 'Konganda Charamanna Cariappa', 'PSP Handscomb': 'Peter Stephen Patrick Handscomb', 'Swapnil Singh': 'Swapnil Singh', 'J Yadav': 'Jayant Yadav', 'UT Khawaja': 'Usman Tariq Khawaja', 'HM Amla': 'Hashim Mahomed Amla', 'F Behardien': 'Farhaan Behardien', 'A Zampa': 'Adam Zampa', 'BB Sran': 'Barinder Balbirsingh Sran', 'N Rana': 'Nitish Rana', 'S Kaushik': 'Shivil Kaushik', 'ER Dwivedi': 'Eklavya Rakesh Dwivedi', 'CJ Jordan': 'Christopher James Jordan', 'A Choudhary': 'Aniket Vinod Choudhary', 'TS Mills': 'Tymal Solomon Mills', 'BA Stokes': 'Benjamin Andrew Stokes', 'JJ Roy': 'Jason Jonathan Roy', 'Vishnu Vinod': 'Vishnu Vinod', 'Basil Thampi': 'Basil Thampi', 'CR Woakes': 'Christopher Roger Woakes', 'RA Tripathi': 'Rahul Ajay Tripathi', 'DL Chahar': 'Deepak Lokandersingh Chahar', 'V Shankar': 'Vijay Shankar', 'Rashid Khan': 'Rashid Khan Arman', 'LH Ferguson': 'Lachlan Hammond Ferguson', 'RD Chahar': 'Rahul Desraj Chahar', 'C de Grandhomme': 'Colin de Grandhomme', 'AF Milne': 'Adam Fraser Milne', 'S Badree': 'Samuel Badree', 'Mohammad Nabi': 'Mohammad Nabi', 'AJ Tye': 'Andrew James Tye', 'K Rabada': 'Kagiso Rabada', 'Kuldeep Yadav': 'Kuldeep Yadav', 'Washington Sundar': 'Washington Sundar', 'DM Bravo': 'Darren Michael Bravo', 'AR Bawne': 'Ankit Ramdas Bawne', 'SP Jackson': 'Sheldon Philip Jackson', 'Ankit Soni': 'Ankit Soni', 'TA Boult': 'Trent Alexander Boult', 'E Lewis': 'Evin Lewis', 'MA Wood': 'Mark Andrew Wood', 'RK Singh': 'Rinku Khanchand Singh', 'DJM Short': \"D'Arcy John Matthew Short\", 'K Gowtham': 'Krishnappa Gowtham', 'TK Curran': 'Thomas Kevin Curran', 'M Markande': 'Mayank Markande', 'B Stanlake': 'Billy James Stanlake', 'Mujeeb Ur Rahman': 'Mujeeb Ur Rahman', 'A Dananjaya': 'Mahamarakkala Kurukulasooriya Patabendige Akila Dananjaya Perera', 'Shivam Mavi': 'Shivam Pankaj Mavi', 'Shubman Gill': 'Shubman Gill', 'Mohammed Siraj': 'Mohammed Siraj', 'H Klaasen': 'Heinrich Klaasen', 'RK Bhui': 'Ricky Kannakumar Bhui', 'JC Archer': 'Jofra Chioke Archer', 'PP Shaw': 'NA', 'LE Plunkett': 'NA', 'Mustafizur Rahman': 'NA', 'AD Hales': 'NA', 'MK Lomror': 'NA', 'DR Shorey': 'NA', 'MM Ali': 'NA', 'M Prasidh Krishna': 'NA', 'P Chopra': 'NA', 'JPR Scantlebury-Searles': 'NA', 'Abhishek Sharma': 'NA', 'IS Sodhi': 'NA', 'SO Hetmyer': 'NA', 'S Dube': 'NA', 'NA Saini': 'NA', 'JM Bairstow': 'NA', 'Rasikh Salam': 'NA', 'KMA Paul': 'NA', 'N Pooran': 'NA', 'P Ray Barman': 'NA', 'S Lamichhane': 'NA', 'SM Curran': 'NA', 'GC Viljoen': 'NA', 'Avesh Khan': 'NA', 'HF Gurney': 'NA', 'SD Lad': 'NA', 'AS Joseph': 'NA', 'MJ Santner': 'NA', 'R Parag': 'NA', 'JL Denly': 'NA', 'LS Livingstone': 'NA', 'KK Ahmed': 'NA', 'AJ Turner': 'NA', 'SE Rutherford': 'NA', 'Harpreet Brar': 'NA', 'Y Prithvi Raj': 'NA', 'P Simran Singh': 'NA', 'JL Pattinson': 'NA', 'A Nortje': 'NA', 'T Banton': 'NA', 'D Padikkal': 'NA', 'YBK Jaiswal': 'NA', 'RD Gaikwad': 'NA', 'TU Deshpande': 'NA', 'Abdul Samad': 'NA', 'PK Garg': 'NA', 'JR Philippe': 'NA', 'Kartik Tyagi': 'NA', 'CV Varun': 'NA', 'KL Nagarkoti': 'NA', 'I Udana': 'NA', 'Ravi Bishnoi': 'NA', 'Shahbaz Ahmed': 'NA', 'AT Carey': 'NA', 'N Jagadeesan': 'NA', 'T Natarajan': 'NA', 'P Dubey': 'NA', 'SS Cottrell': 'NA', 'Arshdeep Singh': 'NA', 'DR Sams': 'NA', 'A Nel': 'NA', 'C Ganapathy': 'NA', 'TP Sudhindra': 'NA', 'BW Hilfenhaus': 'NA', 'P Amarnath': 'NA', 'B Geeves': 'NA', 'Gagandeep Singh': 'NA', 'AM Salvi': 'NA', 'RR Bose': 'NA', 'SS Sarkar': 'NA', 'RA Shaikh': 'NA', 'MB Parmar': 'NA', 'AA Kazi': 'NA', 'Anand Rajan': 'NA', 'P Prasanth': 'NA', 'SS Mundhe': 'NA', 'RW Price': 'NA', 'Harmeet Singh (2)': 'NA', 'P Suyal': 'NA', 'MG Neser': 'NA', 'K Santokie': 'NA', 'JW Hastings': 'NA', 'GS Sandhu': 'NA', 'T Shamsi': 'NA', 'SM Boland': 'NA', 'Tejas Baroka': 'NA', 'SS Agarwal': 'NA', 'NB Singh': 'NA', 'MJ Henry': 'NA', 'K Khejroliya': 'NA', 'KM Asif': 'NA', 'L Ngidi': 'NA', 'DJ Willey': 'NA', 'CJ Dala': 'NA', 'JP Behrendorff': 'NA', 'SC Kuggeleijn': 'NA', 'S Midhun': 'NA', 'O Thomas': 'NA', 'AS Roy': 'NA', 'S Sandeep Warrier': 'NA', 'JR Hazlewood': 'NA', 'CJ Green': 'NA', 'Monu Kumar': 'NA', 'nan': 'NA', 'KH Devdhar': 'NA', 'T Mishra': 'NA'}\n"
     ]
    }
   ],
   "source": [
    "# replace the short name with full Name\n",
    "dict = {}\n",
    "for player in df_unique_players['Players']:\n",
    "    player = str(player)\n",
    "    if \",\" not in player and \"(sub)\" not in player:\n",
    "        try:\n",
    "            dict[player] = getFullName(str(player))\n",
    "        except:\n",
    "            print(\"NA\")\n",
    "    # df_processed.replace(player, getFullName(player), inplace=True)\n",
    "# print(getFullName(\"RT Ponting\"))\n",
    "# df_processed.replace('RT Ponting', 'Rickey Ponting')\n",
    "# df_processed\n",
    "print(dict)"
   ]
  },
  {
   "cell_type": "code",
   "execution_count": 7,
   "metadata": {},
   "outputs": [
    {
     "data": {
      "text/plain": [
       "False"
      ]
     },
     "execution_count": 7,
     "metadata": {},
     "output_type": "execute_result"
    }
   ],
   "source": [
    "condition = os.path.exists(IPL_ESPN_Mapping)\n",
    "condition"
   ]
  },
  {
   "cell_type": "code",
   "execution_count": 9,
   "metadata": {},
   "outputs": [],
   "source": [
    "if not(condition):\n",
    "    os.mkdir('./../MappingFiles/')\n",
    "    pd.DataFrame.from_dict(dict, orient='index').to_csv(IPL_ESPN_Mapping)"
   ]
  },
  {
   "cell_type": "code",
   "execution_count": null,
   "metadata": {},
   "outputs": [],
   "source": []
  }
 ],
 "metadata": {
  "kernelspec": {
   "display_name": "Python 3",
   "language": "python",
   "name": "python3"
  },
  "language_info": {
   "codemirror_mode": {
    "name": "ipython",
    "version": 3
   },
   "file_extension": ".py",
   "mimetype": "text/x-python",
   "name": "python",
   "nbconvert_exporter": "python",
   "pygments_lexer": "ipython3",
   "version": "3.10.10"
  }
 },
 "nbformat": 4,
 "nbformat_minor": 2
}
