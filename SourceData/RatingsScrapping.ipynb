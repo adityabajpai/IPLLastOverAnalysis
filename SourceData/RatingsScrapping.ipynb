{
 "cells": [
  {
   "cell_type": "code",
   "execution_count": 30,
   "metadata": {},
   "outputs": [],
   "source": [
    "from bs4 import BeautifulSoup\n",
    "from urllib.request import urlopen\n",
    "import pandas as pd\n",
    "from datetime import datetime, timedelta\n",
    "import os"
   ]
  },
  {
   "cell_type": "markdown",
   "metadata": {},
   "source": [
    "Create list of all dates from 2022"
   ]
  },
  {
   "cell_type": "code",
   "execution_count": 31,
   "metadata": {},
   "outputs": [
    {
     "name": "stdout",
     "output_type": "stream",
     "text": [
      "2023-12-01\n",
      "2008-01-01 00:00:00\n",
      "DatetimeIndex(['2008-01-31', '2008-02-29', '2008-03-31', '2008-04-30',\n",
      "               '2008-05-31', '2008-06-30', '2008-07-31', '2008-08-31',\n",
      "               '2008-09-30', '2008-10-31',\n",
      "               ...\n",
      "               '2023-02-28', '2023-03-31', '2023-04-30', '2023-05-31',\n",
      "               '2023-06-30', '2023-07-31', '2023-08-31', '2023-09-30',\n",
      "               '2023-10-31', '2023-11-30'],\n",
      "              dtype='datetime64[ns]', length=191, freq='M')\n"
     ]
    }
   ],
   "source": [
    "latestDate = datetime.today()\n",
    "latestDay = latestDate.day - 1\n",
    "latestDate = (latestDate - timedelta(days=latestDay))\n",
    "startDate = datetime.strptime(\"01/01/2008\", \"%d/%m/%Y\")\n",
    "print(latestDate.strftime(\"%Y-%m-%d\"))\n",
    "print(startDate)\n",
    "date_list = pd.date_range(startDate, latestDate, freq=\"M\")\n",
    "print(date_list)\n"
   ]
  },
  {
   "cell_type": "markdown",
   "metadata": {},
   "source": [
    "Base URL for Rankings"
   ]
  },
  {
   "cell_type": "code",
   "execution_count": 32,
   "metadata": {},
   "outputs": [],
   "source": [
    "baseUrlBatsman = \"https://www.relianceiccrankings.com/datespecific/t20/batting/\"\n",
    "baseUrlBowler = \"https://www.relianceiccrankings.com/datespecific/t20/bowling/\""
   ]
  },
  {
   "cell_type": "code",
   "execution_count": 33,
   "metadata": {},
   "outputs": [],
   "source": [
    "def readWebData(url):\n",
    "    html1 = urlopen(url)\n",
    "    html = html1.read()\n",
    "    return html"
   ]
  },
  {
   "cell_type": "markdown",
   "metadata": {},
   "source": [
    "Beautify the HTML text using Beautiful Soup"
   ]
  },
  {
   "cell_type": "code",
   "execution_count": 34,
   "metadata": {},
   "outputs": [],
   "source": [
    "def beautifyData(html):\n",
    "    return BeautifulSoup(html, features=\"html.parser\")"
   ]
  },
  {
   "cell_type": "markdown",
   "metadata": {},
   "source": [
    "Create DataFrame for 1 Year for Ratings Table"
   ]
  },
  {
   "cell_type": "code",
   "execution_count": 35,
   "metadata": {},
   "outputs": [],
   "source": [
    "\n",
    "def ratingsTable(reqURL,year,month):\n",
    "    html = readWebData(reqURL)\n",
    "    playersListTable = beautifyData(html).find_all(\"tr\")\n",
    "    playersRatingList = []\n",
    "    for player in playersListTable[1:]:\n",
    "        # print(player.find(\"td\"))\n",
    "        temp = player.find_all(\"td\")\n",
    "        rank = temp[0].text.strip()\n",
    "        rating = temp[1].text.strip()\n",
    "        name = temp[2].find(\"a\").text.strip()\n",
    "        year = year\n",
    "        month = month\n",
    "        # print(rank)\n",
    "        # print(rating)\n",
    "        # print(name)\n",
    "        list = [rank, rating, name, year, month]\n",
    "        playersRatingList.append(list)\n",
    "        # print(list)\n",
    "    return playersRatingList"
   ]
  },
  {
   "cell_type": "code",
   "execution_count": 36,
   "metadata": {},
   "outputs": [
    {
     "name": "stdout",
     "output_type": "stream",
     "text": [
      "True\n",
      "True\n"
     ]
    }
   ],
   "source": [
    "batsman_path_exist = os.path.exists('./../Ratings/T20/Batsman/')\n",
    "bowler_path_exist = os.path.exists('./../Ratings/T20/Bowler/')\n",
    "print(batsman_path_exist)\n",
    "print(bowler_path_exist)\n",
    "if batsman_path_exist or bowler_path_exist:\n",
    "    if batsman_path_exist:\n",
    "        list_file_batsman = os.listdir('./../Ratings/T20/Batsman/')\n",
    "        for file in list_file_batsman:\n",
    "            os.remove(os.path.join('./../Ratings/T20/Batsman/', file))\n",
    "        os.removedirs('./../Ratings/T20/Batsman/')\n",
    "\n",
    "    if bowler_path_exist:\n",
    "        list_file_bowler = os.listdir('./../Ratings/T20/Bowler/')\n",
    "        for file in list_file_bowler:\n",
    "            os.remove(os.path.join('./../Ratings/T20/Bowler/', file))\n",
    "        os.removedirs('./../Ratings/T20/Bowler/')\n",
    "    \n",
    "    os.mkdir('./../Ratings/')\n",
    "    os.mkdir('./../Ratings/T20/')\n",
    "    os.mkdir('./../Ratings/T20/Batsman')\n",
    "    os.mkdir('./../Ratings/T20/Bowler')\n",
    "else:\n",
    "    os.mkdir('./../Ratings/')\n",
    "    os.mkdir('./../Ratings/T20/')\n",
    "    os.mkdir('./../Ratings/T20/Batsman')\n",
    "    os.mkdir('./../Ratings/T20/Bowler')"
   ]
  },
  {
   "cell_type": "code",
   "execution_count": 37,
   "metadata": {},
   "outputs": [],
   "source": [
    "# batsman_path_exist = os.path.exists('./../Ratings/T20/Batsman')\n",
    "# batsman_path_exist\n",
    "# if batsman_path_exist:\n",
    "#     os.removedirs('./Ratings/T20/Batsman')\n",
    "#     os.mkdir('./Ratings/')\n",
    "#     os.mkdir('./Ratings/T20/')\n",
    "#     os.mkdir('./Ratings/T20/Batsman')\n",
    "# else:\n",
    "#     os.mkdir('./Ratings/')\n",
    "#     os.mkdir('./Ratings/T20/')\n",
    "#     os.mkdir('./Ratings/T20/Batsman')\n",
    "#     # os.mkdir('./')"
   ]
  },
  {
   "cell_type": "code",
   "execution_count": 38,
   "metadata": {},
   "outputs": [],
   "source": [
    "for date_item in date_list:\n",
    "    year = date_item.strftime(\"%Y\")\n",
    "    month = date_item.strftime(\"%m\")\n",
    "    day = date_item.strftime(\"%d\")\n",
    "    fileName = year+\"\"+month+\"\"+day+\".csv\"\n",
    "    reqURL = baseUrlBatsman + date_item.strftime(\"%Y/%m/%d\") + \"/\"\n",
    "    # # reqURL\n",
    "    df = pd.DataFrame(ratingsTable(reqURL,year,month), columns=['Rank','Rating','Name','Year','Month'])\n",
    "    # print(df)\n",
    "    df.to_csv('./../Ratings/T20/Batsman/'+fileName, index=False)"
   ]
  },
  {
   "cell_type": "code",
   "execution_count": 39,
   "metadata": {},
   "outputs": [],
   "source": [
    "# bowler_path_exist = os.path.exists('./Ratings/T20/Bowler')\n",
    "# bowler_path_exist\n",
    "# if bowler_path_exist:\n",
    "#     os.removedirs('./Ratings/T20/Bowler')\n",
    "#     os.mkdir('./Ratings/T20/Bowler')\n",
    "# else:\n",
    "#     os.mkdir('./Ratings/T20/Bowler')\n",
    "#     # os.mkdir('./')"
   ]
  },
  {
   "cell_type": "code",
   "execution_count": 40,
   "metadata": {},
   "outputs": [],
   "source": [
    "for date_item in date_list:\n",
    "    year = date_item.strftime(\"%Y\")\n",
    "    month = date_item.strftime(\"%m\")\n",
    "    day = date_item.strftime(\"%d\")\n",
    "    fileName = year+\"\"+month+\"\"+day+\".csv\"\n",
    "    reqURL = baseUrlBowler + date_item.strftime(\"%Y/%m/%d\") + \"/\"\n",
    "    # # reqURL\n",
    "    df = pd.DataFrame(ratingsTable(reqURL,year,month), columns=['Rank','Rating','Name','Year','Month'])\n",
    "    # print(df)\n",
    "    df.to_csv('./../Ratings/T20/Bowler/'+fileName, index=False)"
   ]
  },
  {
   "cell_type": "code",
   "execution_count": null,
   "metadata": {},
   "outputs": [],
   "source": []
  }
 ],
 "metadata": {
  "kernelspec": {
   "display_name": "Python 3",
   "language": "python",
   "name": "python3"
  },
  "language_info": {
   "codemirror_mode": {
    "name": "ipython",
    "version": 3
   },
   "file_extension": ".py",
   "mimetype": "text/x-python",
   "name": "python",
   "nbconvert_exporter": "python",
   "pygments_lexer": "ipython3",
   "version": "3.10.10"
  },
  "orig_nbformat": 4
 },
 "nbformat": 4,
 "nbformat_minor": 2
}
